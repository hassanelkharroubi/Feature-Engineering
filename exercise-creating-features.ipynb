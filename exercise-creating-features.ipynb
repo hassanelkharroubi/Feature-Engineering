{
 "cells": [
  {
   "cell_type": "markdown",
   "id": "a28949c2",
   "metadata": {
    "papermill": {
     "duration": 0.00699,
     "end_time": "2022-11-15T00:54:33.409221",
     "exception": false,
     "start_time": "2022-11-15T00:54:33.402231",
     "status": "completed"
    },
    "tags": []
   },
   "source": [
    "**This notebook is an exercise in the [Feature Engineering](https://www.kaggle.com/learn/feature-engineering) course.  You can reference the tutorial at [this link](https://www.kaggle.com/ryanholbrook/creating-features).**\n",
    "\n",
    "---\n"
   ]
  },
  {
   "cell_type": "markdown",
   "id": "51bc4c10",
   "metadata": {
    "papermill": {
     "duration": 0.005246,
     "end_time": "2022-11-15T00:54:33.420342",
     "exception": false,
     "start_time": "2022-11-15T00:54:33.415096",
     "status": "completed"
    },
    "tags": []
   },
   "source": [
    "# Introduction #\n",
    "\n",
    "In this exercise you'll start developing the features you identified in Exercise 2 as having the most potential. As you work through this exercise, you might take a moment to look at the data documentation again and consider whether the features we're creating make sense from a real-world perspective, and whether there are any useful combinations that stand out to you.\n",
    "\n",
    "Run this cell to set everything up!"
   ]
  },
  {
   "cell_type": "code",
   "execution_count": 1,
   "id": "5dbd911b",
   "metadata": {
    "execution": {
     "iopub.execute_input": "2022-11-15T00:54:33.433828Z",
     "iopub.status.busy": "2022-11-15T00:54:33.433160Z",
     "iopub.status.idle": "2022-11-15T00:54:34.878683Z",
     "shell.execute_reply": "2022-11-15T00:54:34.877500Z"
    },
    "papermill": {
     "duration": 1.455457,
     "end_time": "2022-11-15T00:54:34.881475",
     "exception": false,
     "start_time": "2022-11-15T00:54:33.426018",
     "status": "completed"
    },
    "tags": []
   },
   "outputs": [],
   "source": [
    "# Setup feedback system\n",
    "from learntools.core import binder\n",
    "binder.bind(globals())\n",
    "from learntools.feature_engineering_new.ex3 import *\n",
    "\n",
    "import numpy as np\n",
    "import pandas as pd\n",
    "from sklearn.model_selection import cross_val_score\n",
    "from xgboost import XGBRegressor\n",
    "\n",
    "\n",
    "def score_dataset(X, y, model=XGBRegressor()):\n",
    "    # Label encoding for categoricals\n",
    "    for colname in X.select_dtypes([\"category\", \"object\"]):\n",
    "        X[colname], _ = X[colname].factorize()\n",
    "    # Metric for Housing competition is RMSLE (Root Mean Squared Log Error)\n",
    "    score = cross_val_score(\n",
    "        model, X, y, cv=5, scoring=\"neg_mean_squared_log_error\",\n",
    "    )\n",
    "    score = -1 * score.mean()\n",
    "    score = np.sqrt(score)\n",
    "    return score\n",
    "\n",
    "\n",
    "# Prepare data\n",
    "df = pd.read_csv(\"../input/fe-course-data/ames.csv\")\n",
    "X = df.copy()\n",
    "y = X.pop(\"SalePrice\")"
   ]
  },
  {
   "cell_type": "markdown",
   "id": "771a870d",
   "metadata": {
    "papermill": {
     "duration": 0.005531,
     "end_time": "2022-11-15T00:54:34.892752",
     "exception": false,
     "start_time": "2022-11-15T00:54:34.887221",
     "status": "completed"
    },
    "tags": []
   },
   "source": [
    "-------------------------------------------------------------------------------\n",
    "\n",
    "Let's start with a few mathematical combinations. We'll focus on features describing areas -- having the same units (square-feet) makes it easy to combine them in sensible ways. Since we're using XGBoost (a tree-based model), we'll focus on ratios and sums.\n",
    "\n",
    "# 1) Create Mathematical Transforms\n",
    "\n",
    "Create the following features:\n",
    "\n",
    "- `LivLotRatio`: the ratio of `GrLivArea` to `LotArea`\n",
    "- `Spaciousness`: the sum of `FirstFlrSF` and `SecondFlrSF` divided by `TotRmsAbvGrd`\n",
    "- `TotalOutsideSF`: the sum of `WoodDeckSF`, `OpenPorchSF`, `EnclosedPorch`, `Threeseasonporch`, and `ScreenPorch`"
   ]
  },
  {
   "cell_type": "code",
   "execution_count": 2,
   "id": "7633ee4b",
   "metadata": {
    "execution": {
     "iopub.execute_input": "2022-11-15T00:54:34.906443Z",
     "iopub.status.busy": "2022-11-15T00:54:34.905162Z",
     "iopub.status.idle": "2022-11-15T00:54:34.933043Z",
     "shell.execute_reply": "2022-11-15T00:54:34.931846Z"
    },
    "lines_to_next_cell": 0,
    "papermill": {
     "duration": 0.037849,
     "end_time": "2022-11-15T00:54:34.936202",
     "exception": false,
     "start_time": "2022-11-15T00:54:34.898353",
     "status": "completed"
    },
    "tags": []
   },
   "outputs": [
    {
     "data": {
      "application/javascript": [
       "parent.postMessage({\"jupyterEvent\": \"custom.exercise_interaction\", \"data\": {\"outcomeType\": 1, \"valueTowardsCompletion\": 0.2, \"interactionType\": 1, \"questionType\": 2, \"questionId\": \"1_Q1\", \"learnToolsVersion\": \"0.3.4\", \"failureMessage\": \"\", \"exceptionClass\": \"\", \"trace\": \"\"}}, \"*\")"
      ],
      "text/plain": [
       "<IPython.core.display.Javascript object>"
      ]
     },
     "metadata": {},
     "output_type": "display_data"
    },
    {
     "data": {
      "text/markdown": [
       "<span style=\"color:#33cc33\">Correct</span>"
      ],
      "text/plain": [
       "Correct"
      ]
     },
     "metadata": {},
     "output_type": "display_data"
    }
   ],
   "source": [
    "# YOUR CODE HERE\n",
    "X_1 = pd.DataFrame()  # dataframe to hold new features\n",
    "\n",
    "X_1[\"LivLotRatio\"] = df.GrLivArea / df.LotArea\n",
    "X_1[\"Spaciousness\"] = (df.FirstFlrSF + df.SecondFlrSF) / df.TotRmsAbvGrd\n",
    "X_1[\"TotalOutsideSF\"] = df.WoodDeckSF + df.OpenPorchSF + df.EnclosedPorch + df.Threeseasonporch + df.ScreenPorch\n",
    "\n",
    "\n",
    "# Check your answer\n",
    "q_1.check()"
   ]
  },
  {
   "cell_type": "code",
   "execution_count": 3,
   "id": "2f851eab",
   "metadata": {
    "execution": {
     "iopub.execute_input": "2022-11-15T00:54:34.950744Z",
     "iopub.status.busy": "2022-11-15T00:54:34.949727Z",
     "iopub.status.idle": "2022-11-15T00:54:34.954295Z",
     "shell.execute_reply": "2022-11-15T00:54:34.953389Z"
    },
    "lines_to_next_cell": 0,
    "papermill": {
     "duration": 0.01389,
     "end_time": "2022-11-15T00:54:34.956571",
     "exception": false,
     "start_time": "2022-11-15T00:54:34.942681",
     "status": "completed"
    },
    "tags": []
   },
   "outputs": [],
   "source": [
    "# Lines below will give you a hint or solution code\n",
    "#q_1.hint()\n",
    "# q_1.solution()"
   ]
  },
  {
   "cell_type": "markdown",
   "id": "46cceab6",
   "metadata": {
    "papermill": {
     "duration": 0.00557,
     "end_time": "2022-11-15T00:54:34.968087",
     "exception": false,
     "start_time": "2022-11-15T00:54:34.962517",
     "status": "completed"
    },
    "tags": []
   },
   "source": [
    "-------------------------------------------------------------------------------\n",
    "\n",
    "If you've discovered an interaction effect between a numeric feature and a categorical feature, you might want to model it explicitly using a one-hot encoding, like so:\n",
    "\n",
    "```\n",
    "# One-hot encode Categorical feature, adding a column prefix \"Cat\"\n",
    "X_new = pd.get_dummies(df.Categorical, prefix=\"Cat\")\n",
    "\n",
    "# Multiply row-by-row\n",
    "X_new = X_new.mul(df.Continuous, axis=0)\n",
    "\n",
    "# Join the new features to the feature set\n",
    "X = X.join(X_new)\n",
    "```\n",
    "\n",
    "# 2) Interaction with a Categorical\n",
    "\n",
    "We discovered an interaction between `BldgType` and `GrLivArea` in Exercise 2. Now create their interaction features."
   ]
  },
  {
   "cell_type": "code",
   "execution_count": 4,
   "id": "fc7265fd",
   "metadata": {
    "execution": {
     "iopub.execute_input": "2022-11-15T00:54:34.981635Z",
     "iopub.status.busy": "2022-11-15T00:54:34.981211Z",
     "iopub.status.idle": "2022-11-15T00:54:34.995511Z",
     "shell.execute_reply": "2022-11-15T00:54:34.994456Z"
    },
    "lines_to_next_cell": 0,
    "papermill": {
     "duration": 0.023811,
     "end_time": "2022-11-15T00:54:34.997825",
     "exception": false,
     "start_time": "2022-11-15T00:54:34.974014",
     "status": "completed"
    },
    "tags": []
   },
   "outputs": [
    {
     "data": {
      "application/javascript": [
       "parent.postMessage({\"jupyterEvent\": \"custom.exercise_interaction\", \"data\": {\"outcomeType\": 1, \"valueTowardsCompletion\": 0.2, \"interactionType\": 1, \"questionType\": 2, \"questionId\": \"2_Q2\", \"learnToolsVersion\": \"0.3.4\", \"failureMessage\": \"\", \"exceptionClass\": \"\", \"trace\": \"\"}}, \"*\")"
      ],
      "text/plain": [
       "<IPython.core.display.Javascript object>"
      ]
     },
     "metadata": {},
     "output_type": "display_data"
    },
    {
     "data": {
      "text/markdown": [
       "<span style=\"color:#33cc33\">Correct</span>"
      ],
      "text/plain": [
       "Correct"
      ]
     },
     "metadata": {},
     "output_type": "display_data"
    }
   ],
   "source": [
    "# YOUR CODE HERE\n",
    "# One-hot encode BldgType. Use `prefix=\"Bldg\"` in `get_dummies`\n",
    "X_2 = pd.get_dummies(df.BldgType, prefix=\"Bldg\")\n",
    "# Multiply\n",
    "X_2 = X_2.mul(df.GrLivArea, axis=0)\n",
    "\n",
    "# Check your answer\n",
    "q_2.check()"
   ]
  },
  {
   "cell_type": "code",
   "execution_count": 5,
   "id": "6ee50ae9",
   "metadata": {
    "execution": {
     "iopub.execute_input": "2022-11-15T00:54:35.013807Z",
     "iopub.status.busy": "2022-11-15T00:54:35.013376Z",
     "iopub.status.idle": "2022-11-15T00:54:35.017560Z",
     "shell.execute_reply": "2022-11-15T00:54:35.016722Z"
    },
    "lines_to_next_cell": 0,
    "papermill": {
     "duration": 0.013844,
     "end_time": "2022-11-15T00:54:35.019635",
     "exception": false,
     "start_time": "2022-11-15T00:54:35.005791",
     "status": "completed"
    },
    "tags": []
   },
   "outputs": [],
   "source": [
    "# Lines below will give you a hint or solution code\n",
    "#q_2.hint()\n",
    "# q_2.solution()"
   ]
  },
  {
   "cell_type": "markdown",
   "id": "cfe226a8",
   "metadata": {
    "lines_to_next_cell": 0,
    "papermill": {
     "duration": 0.005929,
     "end_time": "2022-11-15T00:54:35.031681",
     "exception": false,
     "start_time": "2022-11-15T00:54:35.025752",
     "status": "completed"
    },
    "tags": []
   },
   "source": [
    "# 3) Count Feature\n",
    "\n",
    "Let's try creating a feature that describes how many kinds of outdoor areas a dwelling has. Create a feature `PorchTypes` that counts how many of the following are greater than 0.0:\n",
    "\n",
    "```\n",
    "WoodDeckSF\n",
    "OpenPorchSF\n",
    "EnclosedPorch\n",
    "Threeseasonporch\n",
    "ScreenPorch\n",
    "```"
   ]
  },
  {
   "cell_type": "code",
   "execution_count": 6,
   "id": "1f3c2474",
   "metadata": {
    "execution": {
     "iopub.execute_input": "2022-11-15T00:54:35.046448Z",
     "iopub.status.busy": "2022-11-15T00:54:35.045547Z",
     "iopub.status.idle": "2022-11-15T00:54:35.063002Z",
     "shell.execute_reply": "2022-11-15T00:54:35.061944Z"
    },
    "lines_to_next_cell": 0,
    "papermill": {
     "duration": 0.027314,
     "end_time": "2022-11-15T00:54:35.065433",
     "exception": false,
     "start_time": "2022-11-15T00:54:35.038119",
     "status": "completed"
    },
    "tags": []
   },
   "outputs": [
    {
     "data": {
      "application/javascript": [
       "parent.postMessage({\"jupyterEvent\": \"custom.exercise_interaction\", \"data\": {\"outcomeType\": 1, \"valueTowardsCompletion\": 0.2, \"interactionType\": 1, \"questionType\": 2, \"questionId\": \"3_Q3\", \"learnToolsVersion\": \"0.3.4\", \"failureMessage\": \"\", \"exceptionClass\": \"\", \"trace\": \"\"}}, \"*\")"
      ],
      "text/plain": [
       "<IPython.core.display.Javascript object>"
      ]
     },
     "metadata": {},
     "output_type": "display_data"
    },
    {
     "data": {
      "text/markdown": [
       "<span style=\"color:#33cc33\">Correct</span>"
      ],
      "text/plain": [
       "Correct"
      ]
     },
     "metadata": {},
     "output_type": "display_data"
    }
   ],
   "source": [
    "X_3 = pd.DataFrame()\n",
    "\n",
    "# YOUR CODE HERE\n",
    "X_3 = pd.DataFrame()\n",
    "\n",
    "X_3[\"PorchTypes\"] = df[[\n",
    "    \"WoodDeckSF\",\n",
    "    \"OpenPorchSF\",\n",
    "    \"EnclosedPorch\",\n",
    "    \"Threeseasonporch\",\n",
    "    \"ScreenPorch\",\n",
    "]].gt(0.0).sum(axis=1)\n",
    "\n",
    "\n",
    "# Check your answer\n",
    "q_3.check()"
   ]
  },
  {
   "cell_type": "code",
   "execution_count": 7,
   "id": "1071ec90",
   "metadata": {
    "execution": {
     "iopub.execute_input": "2022-11-15T00:54:35.080038Z",
     "iopub.status.busy": "2022-11-15T00:54:35.079086Z",
     "iopub.status.idle": "2022-11-15T00:54:35.083768Z",
     "shell.execute_reply": "2022-11-15T00:54:35.082687Z"
    },
    "lines_to_next_cell": 0,
    "papermill": {
     "duration": 0.014687,
     "end_time": "2022-11-15T00:54:35.086282",
     "exception": false,
     "start_time": "2022-11-15T00:54:35.071595",
     "status": "completed"
    },
    "tags": []
   },
   "outputs": [],
   "source": [
    "# Lines below will give you a hint or solution code\n",
    "#q_3.hint()\n",
    "# q_3.solution()"
   ]
  },
  {
   "cell_type": "markdown",
   "id": "3fe503e3",
   "metadata": {
    "papermill": {
     "duration": 0.006057,
     "end_time": "2022-11-15T00:54:35.098640",
     "exception": false,
     "start_time": "2022-11-15T00:54:35.092583",
     "status": "completed"
    },
    "tags": []
   },
   "source": [
    "# 4) Break Down a Categorical Feature\n",
    "\n",
    "`MSSubClass` describes the type of a dwelling:"
   ]
  },
  {
   "cell_type": "code",
   "execution_count": 8,
   "id": "e21ed96c",
   "metadata": {
    "execution": {
     "iopub.execute_input": "2022-11-15T00:54:35.113404Z",
     "iopub.status.busy": "2022-11-15T00:54:35.112482Z",
     "iopub.status.idle": "2022-11-15T00:54:35.121019Z",
     "shell.execute_reply": "2022-11-15T00:54:35.119873Z"
    },
    "papermill": {
     "duration": 0.018365,
     "end_time": "2022-11-15T00:54:35.123277",
     "exception": false,
     "start_time": "2022-11-15T00:54:35.104912",
     "status": "completed"
    },
    "tags": []
   },
   "outputs": [
    {
     "data": {
      "text/plain": [
       "array(['One_Story_1946_and_Newer_All_Styles', 'Two_Story_1946_and_Newer',\n",
       "       'One_Story_PUD_1946_and_Newer',\n",
       "       'One_and_Half_Story_Finished_All_Ages', 'Split_Foyer',\n",
       "       'Two_Story_PUD_1946_and_Newer', 'Split_or_Multilevel',\n",
       "       'One_Story_1945_and_Older', 'Duplex_All_Styles_and_Ages',\n",
       "       'Two_Family_conversion_All_Styles_and_Ages',\n",
       "       'One_and_Half_Story_Unfinished_All_Ages',\n",
       "       'Two_Story_1945_and_Older', 'Two_and_Half_Story_All_Ages',\n",
       "       'One_Story_with_Finished_Attic_All_Ages',\n",
       "       'PUD_Multilevel_Split_Level_Foyer',\n",
       "       'One_and_Half_Story_PUD_All_Ages'], dtype=object)"
      ]
     },
     "execution_count": 8,
     "metadata": {},
     "output_type": "execute_result"
    }
   ],
   "source": [
    "df.MSSubClass.unique()"
   ]
  },
  {
   "cell_type": "markdown",
   "id": "442c119c",
   "metadata": {
    "papermill": {
     "duration": 0.006148,
     "end_time": "2022-11-15T00:54:35.135855",
     "exception": false,
     "start_time": "2022-11-15T00:54:35.129707",
     "status": "completed"
    },
    "tags": []
   },
   "source": [
    "You can see that there is a more general categorization described (roughly) by the first word of each category. Create a feature containing only these first words by splitting `MSSubClass` at the first underscore `_`. (Hint: In the `split` method use an argument `n=1`.)"
   ]
  },
  {
   "cell_type": "code",
   "execution_count": 9,
   "id": "1cd7516f",
   "metadata": {
    "execution": {
     "iopub.execute_input": "2022-11-15T00:54:35.151334Z",
     "iopub.status.busy": "2022-11-15T00:54:35.150116Z",
     "iopub.status.idle": "2022-11-15T00:54:35.175557Z",
     "shell.execute_reply": "2022-11-15T00:54:35.174536Z"
    },
    "lines_to_next_cell": 0,
    "papermill": {
     "duration": 0.035613,
     "end_time": "2022-11-15T00:54:35.177865",
     "exception": false,
     "start_time": "2022-11-15T00:54:35.142252",
     "status": "completed"
    },
    "tags": []
   },
   "outputs": [
    {
     "data": {
      "application/javascript": [
       "parent.postMessage({\"jupyterEvent\": \"custom.exercise_interaction\", \"data\": {\"outcomeType\": 1, \"valueTowardsCompletion\": 0.2, \"interactionType\": 1, \"questionType\": 2, \"questionId\": \"4_Q4\", \"learnToolsVersion\": \"0.3.4\", \"failureMessage\": \"\", \"exceptionClass\": \"\", \"trace\": \"\"}}, \"*\")"
      ],
      "text/plain": [
       "<IPython.core.display.Javascript object>"
      ]
     },
     "metadata": {},
     "output_type": "display_data"
    },
    {
     "data": {
      "text/markdown": [
       "<span style=\"color:#33cc33\">Correct</span>"
      ],
      "text/plain": [
       "Correct"
      ]
     },
     "metadata": {},
     "output_type": "display_data"
    }
   ],
   "source": [
    "X_4 = pd.DataFrame()\n",
    "\n",
    "# YOUR CODE HERE\n",
    "\n",
    "X_4[\"MSClass\"] = df.MSSubClass.str.split(\"_\", n=1, expand=True)[0]\n",
    "\n",
    "# Check your answer\n",
    "q_4.check()"
   ]
  },
  {
   "cell_type": "code",
   "execution_count": 10,
   "id": "2276ae3b",
   "metadata": {
    "execution": {
     "iopub.execute_input": "2022-11-15T00:54:35.193284Z",
     "iopub.status.busy": "2022-11-15T00:54:35.192246Z",
     "iopub.status.idle": "2022-11-15T00:54:35.197205Z",
     "shell.execute_reply": "2022-11-15T00:54:35.196086Z"
    },
    "lines_to_next_cell": 0,
    "papermill": {
     "duration": 0.015278,
     "end_time": "2022-11-15T00:54:35.199700",
     "exception": false,
     "start_time": "2022-11-15T00:54:35.184422",
     "status": "completed"
    },
    "tags": []
   },
   "outputs": [],
   "source": [
    "# Lines below will give you a hint or solution code\n",
    "#q_4.hint()\n",
    "# q_4.solution()"
   ]
  },
  {
   "cell_type": "markdown",
   "id": "c24ebfe4",
   "metadata": {
    "papermill": {
     "duration": 0.00619,
     "end_time": "2022-11-15T00:54:35.212513",
     "exception": false,
     "start_time": "2022-11-15T00:54:35.206323",
     "status": "completed"
    },
    "tags": []
   },
   "source": [
    "# 5) Use a Grouped Transform\n",
    "\n",
    "The value of a home often depends on how it compares to typical homes in its neighborhood. Create a feature `MedNhbdArea` that describes the *median* of `GrLivArea` grouped on `Neighborhood`."
   ]
  },
  {
   "cell_type": "code",
   "execution_count": 11,
   "id": "1a56fde0",
   "metadata": {
    "execution": {
     "iopub.execute_input": "2022-11-15T00:54:35.227297Z",
     "iopub.status.busy": "2022-11-15T00:54:35.226882Z",
     "iopub.status.idle": "2022-11-15T00:54:35.246730Z",
     "shell.execute_reply": "2022-11-15T00:54:35.245621Z"
    },
    "lines_to_next_cell": 0,
    "papermill": {
     "duration": 0.030492,
     "end_time": "2022-11-15T00:54:35.249545",
     "exception": false,
     "start_time": "2022-11-15T00:54:35.219053",
     "status": "completed"
    },
    "tags": []
   },
   "outputs": [
    {
     "data": {
      "application/javascript": [
       "parent.postMessage({\"jupyterEvent\": \"custom.exercise_interaction\", \"data\": {\"outcomeType\": 1, \"valueTowardsCompletion\": 0.2, \"interactionType\": 1, \"questionType\": 2, \"questionId\": \"5_Q5\", \"learnToolsVersion\": \"0.3.4\", \"failureMessage\": \"\", \"exceptionClass\": \"\", \"trace\": \"\"}}, \"*\")"
      ],
      "text/plain": [
       "<IPython.core.display.Javascript object>"
      ]
     },
     "metadata": {},
     "output_type": "display_data"
    },
    {
     "data": {
      "text/markdown": [
       "<span style=\"color:#33cc33\">Correct</span>"
      ],
      "text/plain": [
       "Correct"
      ]
     },
     "metadata": {},
     "output_type": "display_data"
    }
   ],
   "source": [
    "X_5 = pd.DataFrame()\n",
    "\n",
    "# YOUR CODE HERE\n",
    "X_5[\"MedNhbdArea\"] = df.groupby(\"Neighborhood\")[\"GrLivArea\"].transform(\"median\")\n",
    "\n",
    "\n",
    "# Check your answer\n",
    "q_5.check()"
   ]
  },
  {
   "cell_type": "code",
   "execution_count": 12,
   "id": "2d604ba4",
   "metadata": {
    "execution": {
     "iopub.execute_input": "2022-11-15T00:54:35.264970Z",
     "iopub.status.busy": "2022-11-15T00:54:35.264598Z",
     "iopub.status.idle": "2022-11-15T00:54:35.269372Z",
     "shell.execute_reply": "2022-11-15T00:54:35.268084Z"
    },
    "lines_to_next_cell": 0,
    "papermill": {
     "duration": 0.015331,
     "end_time": "2022-11-15T00:54:35.271796",
     "exception": false,
     "start_time": "2022-11-15T00:54:35.256465",
     "status": "completed"
    },
    "tags": []
   },
   "outputs": [],
   "source": [
    "# Lines below will give you a hint or solution code\n",
    "#q_5.hint()\n",
    "# q_5.solution()"
   ]
  },
  {
   "cell_type": "markdown",
   "id": "3ab613f1",
   "metadata": {
    "papermill": {
     "duration": 0.006596,
     "end_time": "2022-11-15T00:54:35.285236",
     "exception": false,
     "start_time": "2022-11-15T00:54:35.278640",
     "status": "completed"
    },
    "tags": []
   },
   "source": [
    "Now you've made your first new feature set! If you like, you can run the cell below to score the model with all of your new features added:"
   ]
  },
  {
   "cell_type": "code",
   "execution_count": 13,
   "id": "1b583dbf",
   "metadata": {
    "execution": {
     "iopub.execute_input": "2022-11-15T00:54:35.300314Z",
     "iopub.status.busy": "2022-11-15T00:54:35.299889Z",
     "iopub.status.idle": "2022-11-15T00:54:41.106626Z",
     "shell.execute_reply": "2022-11-15T00:54:41.105718Z"
    },
    "papermill": {
     "duration": 5.817404,
     "end_time": "2022-11-15T00:54:41.109291",
     "exception": false,
     "start_time": "2022-11-15T00:54:35.291887",
     "status": "completed"
    },
    "tags": []
   },
   "outputs": [
    {
     "data": {
      "text/plain": [
       "0.13847331710099203"
      ]
     },
     "execution_count": 13,
     "metadata": {},
     "output_type": "execute_result"
    }
   ],
   "source": [
    "X_new = X.join([X_1, X_2, X_3, X_4, X_5])\n",
    "score_dataset(X_new, y)"
   ]
  },
  {
   "cell_type": "markdown",
   "id": "0d020864",
   "metadata": {
    "papermill": {
     "duration": 0.006947,
     "end_time": "2022-11-15T00:54:41.124442",
     "exception": false,
     "start_time": "2022-11-15T00:54:41.117495",
     "status": "completed"
    },
    "tags": []
   },
   "source": [
    "# Keep Going #\n",
    "\n",
    "[**Untangle spatial relationships**](https://www.kaggle.com/ryanholbrook/clustering-with-k-means) by adding cluster labels to your dataset."
   ]
  },
  {
   "cell_type": "markdown",
   "id": "deaaa16e",
   "metadata": {
    "papermill": {
     "duration": 0.00654,
     "end_time": "2022-11-15T00:54:41.137919",
     "exception": false,
     "start_time": "2022-11-15T00:54:41.131379",
     "status": "completed"
    },
    "tags": []
   },
   "source": [
    "---\n",
    "\n",
    "\n",
    "\n",
    "\n",
    "*Have questions or comments? Visit the [course discussion forum](https://www.kaggle.com/learn/feature-engineering/discussion) to chat with other learners.*"
   ]
  }
 ],
 "metadata": {
  "kernelspec": {
   "display_name": "Python 3",
   "language": "python",
   "name": "python3"
  },
  "language_info": {
   "codemirror_mode": {
    "name": "ipython",
    "version": 3
   },
   "file_extension": ".py",
   "mimetype": "text/x-python",
   "name": "python",
   "nbconvert_exporter": "python",
   "pygments_lexer": "ipython3",
   "version": "3.7.12"
  },
  "papermill": {
   "default_parameters": {},
   "duration": 16.988687,
   "end_time": "2022-11-15T00:54:41.867263",
   "environment_variables": {},
   "exception": null,
   "input_path": "__notebook__.ipynb",
   "output_path": "__notebook__.ipynb",
   "parameters": {},
   "start_time": "2022-11-15T00:54:24.878576",
   "version": "2.3.4"
  }
 },
 "nbformat": 4,
 "nbformat_minor": 5
}
